{
 "cells": [
  {
   "cell_type": "code",
   "execution_count": null,
   "id": "1b0673d4-29ee-42ba-9e8e-8c98494beffe",
   "metadata": {},
   "outputs": [],
   "source": [
    "# Exercise 1: Lists and Dictionaries\n",
    "\n",
    "\"\"\"\n",
    "Instructions:\n",
    "1. Create a shopping list with at least 5 items\n",
    "2. Print out the third item in the list\n",
    "3. Replace the first item with a different item\n",
    "4. Add an item to the end of the list\n",
    "5. Create a dictionary of 3 grocery items with their prices\n",
    "6. Print a message showing one item and its price\n",
    "7. Add a new item to the dictionary with its price\n",
    "8. Calculate and print the total cost of all items\n",
    "\"\"\""
   ]
  },
  {
   "cell_type": "code",
   "execution_count": null,
   "id": "e1ab2456-5423-4876-8b94-63d27c93e14c",
   "metadata": {},
   "outputs": [],
   "source": [
    "# Your solution here:"
   ]
  }
 ],
 "metadata": {
  "kernelspec": {
   "display_name": "Python 3 (ipykernel)",
   "language": "python",
   "name": "python3"
  },
  "language_info": {
   "codemirror_mode": {
    "name": "ipython",
    "version": 3
   },
   "file_extension": ".py",
   "mimetype": "text/x-python",
   "name": "python",
   "nbconvert_exporter": "python",
   "pygments_lexer": "ipython3",
   "version": "3.13.2"
  }
 },
 "nbformat": 4,
 "nbformat_minor": 5
}
